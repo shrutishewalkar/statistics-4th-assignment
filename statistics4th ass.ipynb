{
 "cells": [
  {
   "cell_type": "markdown",
   "id": "0c39ae50-a33e-4831-85a2-915296e19136",
   "metadata": {},
   "source": [
    "Que1: what are the probability mass function(pmf) and probability density function(pdf)? explain with an example."
   ]
  },
  {
   "cell_type": "markdown",
   "id": "81c64a6f-a509-4bd9-9627-2899dbaac72b",
   "metadata": {},
   "source": [
    "Ans: probability mass function denotes the probability that a discrete random variable will take on a particular value. probability density function gives the probability that a continuous random variable will lie between a certain specified interval. it is used for discrete random variables.example of pmf is rolling a dice. there are 6 distinct possible outcomes that define the entire sample space {1,2,3,4,5,6}."
   ]
  },
  {
   "cell_type": "markdown",
   "id": "a81f539b-82bd-4ab6-b94e-d935a7040391",
   "metadata": {},
   "source": [
    "Que2:what is cumulative density function(cdf)?explain with an example. why cdf is used?"
   ]
  },
  {
   "cell_type": "markdown",
   "id": "d2dc788d-f98b-446c-bff2-1be03d01331c",
   "metadata": {},
   "source": [
    "the cumulative density function of a real valued random variable X,evaluated at x, is the probability function that X will take a value less than or equal to X it is used to described the probability distributtion of random variables in a table.for example: if you roll a die , the probability of obtaining a 1 or 2 or 3 or 4 or 5 or 6 is 166.667%(=1/6)individually.. "
   ]
  },
  {
   "cell_type": "markdown",
   "id": "c6abf629-594b-4b7c-bebd-eb2e4fe81b36",
   "metadata": {},
   "source": [
    "Que3: what are some example of suitable where the normal distribution might be used as a model?explain how the parameter of the normal distribution relate to the shape of the distribution."
   ]
  },
  {
   "cell_type": "markdown",
   "id": "7f3cf200-eea1-410d-9746-f62b96ec6acc",
   "metadata": {},
   "source": [
    "Ans: the height, birth, weight, reading ability, job satisfication, or SAT scores are some examples of normal distribution.The shape of the distribution changes as the parameter values change."
   ]
  },
  {
   "cell_type": "markdown",
   "id": "3a9af635-2d0e-45bd-899d-8bc1b9db6217",
   "metadata": {},
   "source": [
    "Que4: explain the importance of normal distribution. give a few real_life exampls of normal distribution."
   ]
  },
  {
   "cell_type": "markdown",
   "id": "2f2d780d-9e5b-4a56-a426-4eacd83b5cb3",
   "metadata": {},
   "source": [
    "The normal distribution is an important probability distribution in math and statistics beacause many continuous data in nature and psychology display this bell_shaped curve when compiled and graphed measure of the reading ability, introversion, job satisfication , and memory are among the many psychological variables approximately normally distributed"
   ]
  },
  {
   "cell_type": "markdown",
   "id": "e31c6a1a-d90a-430b-9472-3c3f91197c1f",
   "metadata": {},
   "source": [
    "Que5:what is bernaulli distribution? give an example. what is difference between bernoulli distribution and binomial distribution."
   ]
  },
  {
   "cell_type": "markdown",
   "id": "3283699f-bd1a-4509-8a81-a40ba0956e8e",
   "metadata": {},
   "source": [
    "Ans:Bernaulli distribution is a discrete probability distribution. it describes the probability of achieving a \" success\" or \"failure\" from a bernoulli trial. A bernaulli trial is an event that has only two possible outcomes(success or failure) . for example: will a coin land on heads (success) or tails (failure)."
   ]
  },
  {
   "cell_type": "markdown",
   "id": "f715ccf0-475e-4463-a94a-71c03cc8ad1c",
   "metadata": {},
   "source": [
    "The bernaulli distribution represents the success or failure of a single bernaulli reial. the binomial disreibution represents the number of successes and failure in n  independent bernaulli trial for some given value of n."
   ]
  },
  {
   "cell_type": "markdown",
   "id": "8139f4ec-8e94-4083-b409-14590b12edc6",
   "metadata": {},
   "source": [
    "Que 7: explain uniform distribution . explain with an example."
   ]
  },
  {
   "cell_type": "markdown",
   "id": "0b1f54a4-b752-46ed-a4b5-067bbae6aaec",
   "metadata": {},
   "source": [
    "in statistics, uniform distribution refers to a type of probability distribution in which all outcomes are equally likely.example: A deck of cards has within it uniform distribution because the likelihood of deawing a heart, a club, a diamond, or a spade is equally likely."
   ]
  },
  {
   "cell_type": "markdown",
   "id": "1739ddc1-6aa5-4932-9524-e423b757981c",
   "metadata": {},
   "source": [
    "Que 8: what is a z score? state the importance of the z score."
   ]
  },
  {
   "cell_type": "markdown",
   "id": "31db47ad-5af1-4594-b194-46e0065b218c",
   "metadata": {},
   "source": [
    "Ans: Z-scores allow you to take data points deawn from populations with different means and standard deviations and place them on a common scale. this standard scale lets you compare observations for different types of variables that would otherwise be difficult."
   ]
  },
  {
   "cell_type": "markdown",
   "id": "95816232-6c4c-4a1f-90db-6686138e1946",
   "metadata": {},
   "source": [
    "Que9: what is a central limit theorem? state the significance of the central limit theorem."
   ]
  },
  {
   "cell_type": "markdown",
   "id": "f304a783-6be9-4ed2-86c3-67848f513bc5",
   "metadata": {},
   "source": [
    "Ans:the central limit theorem states that whenever a random sample of size n is taken from any distribution with mean and variance, then the sample mean will be approximately normally distributed with mean and variance. the larger the valuse of the sample size, the better the approximation to the normal."
   ]
  },
  {
   "cell_type": "markdown",
   "id": "a032768d-adbb-48ef-ab89-b529e631ee03",
   "metadata": {},
   "source": [
    "the CLT performs a signification part in statistical inference. it depcts precisely how much an increase in sample size diminishes sampling error, which teels us about the precison or margin of error for estimates of statistics."
   ]
  },
  {
   "cell_type": "markdown",
   "id": "2cb7642d-24da-44d5-aa14-f1454dd4cd85",
   "metadata": {},
   "source": [
    "Que10: state the assumptions of the central limit theorem."
   ]
  },
  {
   "cell_type": "code",
   "execution_count": null,
   "id": "b871ede1-c30d-4a28-9616-e5efee9dbba5",
   "metadata": {},
   "outputs": [],
   "source": [
    "it needs to be sampled at random. the samples should be unrelated to one another. one sample should not impact the others. when taking samples"
   ]
  }
 ],
 "metadata": {
  "kernelspec": {
   "display_name": "Python 3 (ipykernel)",
   "language": "python",
   "name": "python3"
  },
  "language_info": {
   "codemirror_mode": {
    "name": "ipython",
    "version": 3
   },
   "file_extension": ".py",
   "mimetype": "text/x-python",
   "name": "python",
   "nbconvert_exporter": "python",
   "pygments_lexer": "ipython3",
   "version": "3.10.8"
  }
 },
 "nbformat": 4,
 "nbformat_minor": 5
}
